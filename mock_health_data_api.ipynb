{
 "cells": [
  {
   "cell_type": "markdown",
   "id": "eaa0c2a8-0391-46d5-9df5-dbce2d1033b5",
   "metadata": {},
   "source": [
    "1) Imports and Config"
   ]
  },
  {
   "cell_type": "code",
   "execution_count": 1,
   "id": "2bd53a49-a1a6-4e1e-97f0-5fcb3b18ee00",
   "metadata": {},
   "outputs": [],
   "source": [
    "from fastapi import FastAPI, HTTPException\n",
    "from fastapi.middleware.cors import CORSMiddleware\n",
    "from pydantic import BaseModel\n",
    "from typing import Dict, List\n",
    "import csv\n",
    "import os\n",
    "import uvicorn\n",
    "import nest_asyncio\n",
    "from threading import Thread\n",
    "import ipytest\n",
    "import httpx\n",
    "import logging\n",
    "\n",
    "\n",
    "CSV_FILE = \"patients.csv\"\n",
    "BASE_URL = \"http://127.0.0.1:8000\"\n",
    "ipytest.autoconfig()"
   ]
  },
  {
   "cell_type": "markdown",
   "id": "0b5f3da1-3966-4b63-a8b9-d17fe62dd37b",
   "metadata": {},
   "source": [
    "2. Data Model"
   ]
  },
  {
   "cell_type": "code",
   "execution_count": 2,
   "id": "0d484ea5-35dd-4331-954d-5338f921d843",
   "metadata": {},
   "outputs": [],
   "source": [
    "class Patient(BaseModel):\n",
    "    patient_id: str\n",
    "    age: int\n",
    "    sex: str\n",
    "    BMI: float\n",
    "    diagnosis_code: str\n",
    "    sample_taken: bool\n",
    "    blood_pressure: str\n",
    "    cholesterol_level: float"
   ]
  },
  {
   "cell_type": "markdown",
   "id": "11899e00-2569-42a3-8a6a-1cd5a30717bd",
   "metadata": {},
   "source": [
    "3. CSV Helper Functions"
   ]
  },
  {
   "cell_type": "code",
   "execution_count": 3,
   "id": "baf35d2d-a185-4612-8758-079221467153",
   "metadata": {},
   "outputs": [],
   "source": [
    "def load_patients_from_csv() -> Dict[str, Patient]:\n",
    "    if not os.path.exists(CSV_FILE):\n",
    "        return {}\n",
    "    with open(CSV_FILE, newline='') as f:\n",
    "        reader = csv.DictReader(f)\n",
    "        data = {}\n",
    "        for row in reader:\n",
    "            row['age'] = int(row['age'])\n",
    "            row['BMI'] = float(row['BMI'])\n",
    "            row['sample_taken'] = row['sample_taken'].lower() == \"true\"\n",
    "            row['cholesterol_level'] = float(row['cholesterol_level'])\n",
    "            data[row['patient_id']] = Patient(**row)\n",
    "        return data\n",
    "\n",
    "def save_patients_to_csv():\n",
    "    with open(CSV_FILE, mode='w', newline='', encoding='utf-8') as f:\n",
    "        fieldnames = list(Patient.__fields__)  # Pydantic v1 compatibility\n",
    "        writer = csv.DictWriter(f, fieldnames=fieldnames)\n",
    "        writer.writeheader()\n",
    "        for patient in patients.values():\n",
    "            writer.writerow(patient.dict())\n",
    "        print(\"Saving to:\", os.path.abspath(CSV_FILE))"
   ]
  },
  {
   "cell_type": "markdown",
   "id": "c1bc252d-bd41-4343-87e5-5a7b77a38640",
   "metadata": {},
   "source": [
    "4. FastAPI Initialisation"
   ]
  },
  {
   "cell_type": "code",
   "execution_count": 4,
   "id": "e87c532c-9caf-4c5f-b29b-882da9b64d93",
   "metadata": {},
   "outputs": [],
   "source": [
    "app = FastAPI()\n",
    "\n",
    "# 🔧 Allow cross-origin requests from anywhere (for local dev)\n",
    "app.add_middleware(\n",
    "    CORSMiddleware,\n",
    "    allow_origins=[\"*\"],  # or [\"http://127.0.0.1\"] to be stricter\n",
    "    allow_credentials=True,\n",
    "    allow_methods=[\"*\"],\n",
    "    allow_headers=[\"*\"],\n",
    ")\n",
    "\n",
    "# Configure logging\n",
    "log_file = \"api_requests.log\"\n",
    "logging.basicConfig(\n",
    "    filename=log_file,\n",
    "    filemode=\"a\",  # Append mode\n",
    "    level=logging.INFO,\n",
    "    format=\"%(asctime)s - %(levelname)s - %(message)s\",\n",
    ")\n",
    "\n",
    "# Optional: also log to console\n",
    "console_handler = logging.StreamHandler()\n",
    "console_handler.setLevel(logging.INFO)\n",
    "formatter = logging.Formatter(\"%(asctime)s - %(levelname)s - %(message)s\")\n",
    "console_handler.setFormatter(formatter)\n",
    "logging.getLogger().addHandler(console_handler)\n",
    "\n",
    "\n",
    "patients: Dict[str, Patient] = load_patients_from_csv()"
   ]
  },
  {
   "cell_type": "markdown",
   "id": "4cd2111b-5035-4dbc-a6ce-3ddd9b258231",
   "metadata": {},
   "source": [
    "5. API Endpoints"
   ]
  },
  {
   "cell_type": "code",
   "execution_count": 6,
   "id": "e5469ee9-32cd-4b18-b71a-81dd026bcdb3",
   "metadata": {},
   "outputs": [],
   "source": [
    "@app.get(\"/patients\", response_model=List[Patient])\n",
    "def get_all_patients():\n",
    "    return list(patients.values())\n",
    "\n",
    "@app.get(\"/patients/{patient_id}\", response_model=Patient)\n",
    "def get_patient(patient_id: str):\n",
    "    if patient_id not in patients:\n",
    "        raise HTTPException(status_code=404, detail=\"Patient not found\")\n",
    "    return patients[patient_id]\n",
    "\n",
    "@app.post(\"/patients\", response_model=Patient, status_code=201)\n",
    "def create_patient(patient: Patient):\n",
    "    if patient.patient_id in patients:\n",
    "        logging.warning(f\"Creation failed: Patient {patient.patient_id} already exists.\")\n",
    "        raise HTTPException(status_code=400, detail=\"Patient already exists\")        \n",
    "    patients[patient.patient_id] = patient\n",
    "    save_patients_to_csv()        \n",
    "    logging.info(f\"Patient created: {patient.patient_id}\")\n",
    "    return patient\n",
    "\n",
    "@app.put(\"/patients/{patient_id}\", response_model=Patient)\n",
    "def update_patient(patient_id: str, updated: Patient):\n",
    "    if patient_id not in patients:        \n",
    "        logging.warning(f\"Update failed: Patient {patient_id} not found.\")\n",
    "        raise HTTPException(status_code=404, detail=\"Patient not found\")\n",
    "    patients[patient_id] = updated\n",
    "    save_patients_to_csv()\n",
    "    logging.info(f\"Patient updated: {patient_id}\")\n",
    "    return updated\n",
    "\n",
    "@app.delete(\"/patients/{patient_id}\", status_code=204)\n",
    "def delete_patient(patient_id: str):\n",
    "    if patient_id not in patients:    \n",
    "        logging.warning(f\"Delete failed: Patient {patient_id} not found.\")\n",
    "        raise HTTPException(status_code=404, detail=\"Patient not found\")\n",
    "    del patients[patient_id]\n",
    "    save_patients_to_csv()\n",
    "    logging.info(f\"Patient deleted: {patient_id}\")"
   ]
  },
  {
   "cell_type": "markdown",
   "id": "3af9f10f-c7f2-4c20-b5a9-8cfaa9b1fd50",
   "metadata": {},
   "source": [
    "6. Launch Server"
   ]
  },
  {
   "cell_type": "code",
   "execution_count": 7,
   "id": "5b000a5d-44dd-4d38-8fba-68f8c9842f0d",
   "metadata": {},
   "outputs": [
    {
     "name": "stderr",
     "output_type": "stream",
     "text": [
      "INFO:     Started server process [22384]\n",
      "INFO:     Waiting for application startup.\n",
      "INFO:     Application startup complete.\n",
      "INFO:     Uvicorn running on http://127.0.0.1:8000 (Press CTRL+C to quit)\n"
     ]
    },
    {
     "name": "stdout",
     "output_type": "stream",
     "text": [
      "INFO:     127.0.0.1:63823 - \"GET / HTTP/1.1\" 404 Not Found\n",
      "INFO:     127.0.0.1:63824 - \"GET /favicon.ico HTTP/1.1\" 404 Not Found\n",
      "INFO:     127.0.0.1:63823 - \"GET /docs HTTP/1.1\" 200 OK\n",
      "INFO:     127.0.0.1:63823 - \"GET /openapi.json HTTP/1.1\" 200 OK\n"
     ]
    }
   ],
   "source": [
    "nest_asyncio.apply()\n",
    "\n",
    "def run():\n",
    "    uvicorn.run(app, host=\"127.0.0.1\", port=8000)\n",
    "\n",
    "Thread(target=run, daemon=True).start()"
   ]
  },
  {
   "cell_type": "markdown",
   "id": "97e0fda1-9be9-4156-b162-cd34f2320d91",
   "metadata": {},
   "source": [
    "7. Automation Tests"
   ]
  },
  {
   "cell_type": "code",
   "execution_count": 8,
   "id": "395fe163-1f4b-44be-b19f-0f86a3469e39",
   "metadata": {},
   "outputs": [],
   "source": [
    "# Test 1: Get all patients\n",
    "def test_get_all_patients():\n",
    "    response = httpx.get(f\"{BASE_URL}/patients\")\n",
    "    assert response.status_code == 200\n",
    "    assert isinstance(response.json(), list)\n",
    "\n",
    "# Test 2: Get a valid patient by ID\n",
    "def test_get_valid_patient(patient_id: str):\n",
    "    response = httpx.get(f\"{BASE_URL}/patients/{patient_id}\")\n",
    "    assert response.status_code == 200\n",
    "    assert response.json()[\"patient_id\"] == patient_id\n",
    "\n",
    "# Test 3: Get an invalid (nonexistent) patient\n",
    "def test_get_invalid_patient(patient_id: str):\n",
    "    response = httpx.get(f\"{BASE_URL}/patients/{patient_id}\")\n",
    "    assert response.status_code == 404\n",
    "\n",
    "# Test 4: Create a new patient\n",
    "def test_create_new_patient(patient_id: str):\n",
    "    new_patient = {\n",
    "        \"patient_id\": patient_id,\n",
    "        \"age\": 55,\n",
    "        \"sex\": \"Male\",\n",
    "        \"BMI\": 28.5,\n",
    "        \"diagnosis_code\": \"I90\",\n",
    "        \"sample_taken\": True,\n",
    "        \"blood_pressure\": \"125/85\",\n",
    "        \"cholesterol_level\": 5.5\n",
    "    }\n",
    "    response = httpx.post(f\"{BASE_URL}/patients\", json=new_patient)\n",
    "    assert response.status_code == 201\n",
    "    assert response.json()[\"patient_id\"] == patient_id\n",
    "\n",
    "# Test 5: Update an existing patient\n",
    "def test_update_patient(patient_id: str, new_age: int):\n",
    "    updated_data = {\n",
    "        \"patient_id\": patient_id,\n",
    "        \"age\": new_age,\n",
    "        \"sex\": \"Male\",\n",
    "        \"BMI\": 29.0,\n",
    "        \"diagnosis_code\": \"I91\",\n",
    "        \"sample_taken\": False,\n",
    "        \"blood_pressure\": \"120/80\",\n",
    "        \"cholesterol_level\": 5.0\n",
    "    }\n",
    "    response = httpx.put(f\"{BASE_URL}/patients/{patient_id}\", json=updated_data)\n",
    "    assert response.status_code == 200\n",
    "    assert response.json()[\"age\"] == new_age\n",
    "\n",
    "# Test 6: Delete a patient\n",
    "def test_delete_patient(patient_id: str):\n",
    "    response = httpx.delete(f\"{BASE_URL}/patients/{patient_id}\")\n",
    "    assert response.status_code == 204\n",
    "    # Confirm deletion\n",
    "    check = httpx.get(f\"{BASE_URL}/patients/{patient_id}\")\n",
    "    assert check.status_code == 404"
   ]
  },
  {
   "cell_type": "code",
   "execution_count": null,
   "id": "f5df65a7-b292-4865-bd12-6d663441b749",
   "metadata": {},
   "outputs": [],
   "source": [
    "test_get_all_patients()\n",
    "test_get_valid_patient(\"PAT1002\")\n",
    "test_get_invalid_patient(\"PAT10000\")\n",
    "test_create_new_patient(\"TEST001\")\n",
    "test_update_patient(\"TEST001\", 50)\n",
    "test_delete_patient(\"TEST001\")"
   ]
  },
  {
   "cell_type": "code",
   "execution_count": 9,
   "id": "25a73c58-8a3a-434a-bcdc-219af3178bf9",
   "metadata": {},
   "outputs": [
    {
     "name": "stdout",
     "output_type": "stream",
     "text": [
      "INFO:     127.0.0.1:63851 - \"GET /patients HTTP/1.1\" 200 OK\n"
     ]
    },
    {
     "name": "stderr",
     "output_type": "stream",
     "text": [
      "2025-06-16 10:40:11,842 - INFO - HTTP Request: GET http://127.0.0.1:8000/patients \"HTTP/1.1 200 OK\"\n"
     ]
    }
   ],
   "source": [
    "test_get_all_patients()"
   ]
  },
  {
   "cell_type": "code",
   "execution_count": 10,
   "id": "f18f434f-55f5-4f13-9bdd-aa8950370d0f",
   "metadata": {},
   "outputs": [
    {
     "name": "stdout",
     "output_type": "stream",
     "text": [
      "INFO:     127.0.0.1:63857 - \"GET /patients/PAT1001 HTTP/1.1\" 200 OK\n"
     ]
    },
    {
     "name": "stderr",
     "output_type": "stream",
     "text": [
      "2025-06-16 10:40:16,036 - INFO - HTTP Request: GET http://127.0.0.1:8000/patients/PAT1001 \"HTTP/1.1 200 OK\"\n"
     ]
    }
   ],
   "source": [
    "test_get_valid_patient(\"PAT1001\")"
   ]
  },
  {
   "cell_type": "code",
   "execution_count": 11,
   "id": "01a417c6-88c6-45a3-8819-d8b90e438034",
   "metadata": {},
   "outputs": [
    {
     "name": "stdout",
     "output_type": "stream",
     "text": [
      "INFO:     127.0.0.1:63864 - \"GET /patients/PAT10000 HTTP/1.1\" 404 Not Found\n"
     ]
    },
    {
     "name": "stderr",
     "output_type": "stream",
     "text": [
      "2025-06-16 10:40:21,846 - INFO - HTTP Request: GET http://127.0.0.1:8000/patients/PAT10000 \"HTTP/1.1 404 Not Found\"\n"
     ]
    }
   ],
   "source": [
    "test_get_invalid_patient(\"PAT10000\")"
   ]
  },
  {
   "cell_type": "code",
   "execution_count": 12,
   "id": "6ebb2760-3e5e-4b86-9ab1-2fad52e32b3b",
   "metadata": {},
   "outputs": [
    {
     "name": "stderr",
     "output_type": "stream",
     "text": [
      "2025-06-16 10:40:26,384 - INFO - Patient created: TEST001\n"
     ]
    },
    {
     "name": "stdout",
     "output_type": "stream",
     "text": [
      "Saving to: C:\\Users\\mfbx2jrj\\UKBiobank-Interview\\patients.csv\n",
      "INFO:     127.0.0.1:63870 - \"POST /patients HTTP/1.1\" 201 Created\n"
     ]
    },
    {
     "name": "stderr",
     "output_type": "stream",
     "text": [
      "2025-06-16 10:40:26,384 - INFO - HTTP Request: POST http://127.0.0.1:8000/patients \"HTTP/1.1 201 Created\"\n"
     ]
    }
   ],
   "source": [
    "test_create_new_patient(\"TEST001\")"
   ]
  },
  {
   "cell_type": "code",
   "execution_count": 13,
   "id": "38c2c6c5-d6c5-4cbe-b031-bac8cd91f029",
   "metadata": {},
   "outputs": [
    {
     "name": "stderr",
     "output_type": "stream",
     "text": [
      "2025-06-16 10:40:39,982 - INFO - Patient updated: TEST001\n"
     ]
    },
    {
     "name": "stdout",
     "output_type": "stream",
     "text": [
      "Saving to: C:\\Users\\mfbx2jrj\\UKBiobank-Interview\\patients.csv\n",
      "INFO:     127.0.0.1:63889 - \"PUT /patients/TEST001 HTTP/1.1\" 200 OK\n"
     ]
    },
    {
     "name": "stderr",
     "output_type": "stream",
     "text": [
      "2025-06-16 10:40:39,986 - INFO - HTTP Request: PUT http://127.0.0.1:8000/patients/TEST001 \"HTTP/1.1 200 OK\"\n"
     ]
    }
   ],
   "source": [
    "test_update_patient(\"TEST001\", 50)"
   ]
  },
  {
   "cell_type": "code",
   "execution_count": 14,
   "id": "78f59efb-5f64-4458-b44e-3d404fb1881a",
   "metadata": {},
   "outputs": [
    {
     "name": "stderr",
     "output_type": "stream",
     "text": [
      "2025-06-16 10:40:45,929 - WARNING - Delete failed: Patient TEST00111 not found.\n"
     ]
    },
    {
     "name": "stdout",
     "output_type": "stream",
     "text": [
      "INFO:     127.0.0.1:63898 - \"DELETE /patients/TEST00111 HTTP/1.1\" 404 Not Found\n"
     ]
    },
    {
     "name": "stderr",
     "output_type": "stream",
     "text": [
      "2025-06-16 10:40:45,929 - INFO - HTTP Request: DELETE http://127.0.0.1:8000/patients/TEST00111 \"HTTP/1.1 404 Not Found\"\n"
     ]
    },
    {
     "ename": "AssertionError",
     "evalue": "assert 404 == 204\n +  where 404 = <Response [404 Not Found]>.status_code",
     "output_type": "error",
     "traceback": [
      "\u001b[1;31m---------------------------------------------------------------------------\u001b[0m",
      "\u001b[1;31mAssertionError\u001b[0m                            Traceback (most recent call last)",
      "Cell \u001b[1;32mIn[14], line 1\u001b[0m\n\u001b[1;32m----> 1\u001b[0m test_delete_patient(\u001b[38;5;124m\"\u001b[39m\u001b[38;5;124mTEST00111\u001b[39m\u001b[38;5;124m\"\u001b[39m)\n",
      "Cell \u001b[1;32mIn[8], line 53\u001b[0m, in \u001b[0;36mtest_delete_patient\u001b[1;34m(patient_id)\u001b[0m\n\u001b[0;32m     51\u001b[0m \u001b[38;5;28;01mdef\u001b[39;00m \u001b[38;5;21mtest_delete_patient\u001b[39m(patient_id: \u001b[38;5;28mstr\u001b[39m):\n\u001b[0;32m     52\u001b[0m     response \u001b[38;5;241m=\u001b[39m httpx\u001b[38;5;241m.\u001b[39mdelete(\u001b[38;5;124mf\u001b[39m\u001b[38;5;124m\"\u001b[39m\u001b[38;5;132;01m{\u001b[39;00mBASE_URL\u001b[38;5;132;01m}\u001b[39;00m\u001b[38;5;124m/patients/\u001b[39m\u001b[38;5;132;01m{\u001b[39;00mpatient_id\u001b[38;5;132;01m}\u001b[39;00m\u001b[38;5;124m\"\u001b[39m)\n\u001b[1;32m---> 53\u001b[0m     \u001b[38;5;28;01massert\u001b[39;00m response\u001b[38;5;241m.\u001b[39mstatus_code \u001b[38;5;241m==\u001b[39m \u001b[38;5;241m204\u001b[39m\n\u001b[0;32m     54\u001b[0m     \u001b[38;5;66;03m# Confirm deletion\u001b[39;00m\n\u001b[0;32m     55\u001b[0m     check \u001b[38;5;241m=\u001b[39m httpx\u001b[38;5;241m.\u001b[39mget(\u001b[38;5;124mf\u001b[39m\u001b[38;5;124m\"\u001b[39m\u001b[38;5;132;01m{\u001b[39;00mBASE_URL\u001b[38;5;132;01m}\u001b[39;00m\u001b[38;5;124m/patients/\u001b[39m\u001b[38;5;132;01m{\u001b[39;00mpatient_id\u001b[38;5;132;01m}\u001b[39;00m\u001b[38;5;124m\"\u001b[39m)\n",
      "\u001b[1;31mAssertionError\u001b[0m: assert 404 == 204\n +  where 404 = <Response [404 Not Found]>.status_code"
     ]
    },
    {
     "name": "stdout",
     "output_type": "stream",
     "text": [
      "INFO:     127.0.0.1:64112 - \"GET /patients HTTP/1.1\" 200 OK\n",
      "INFO:     127.0.0.1:64114 - \"OPTIONS /patients HTTP/1.1\" 200 OK\n"
     ]
    },
    {
     "name": "stderr",
     "output_type": "stream",
     "text": [
      "2025-06-16 10:42:24,694 - INFO - Patient created: TEST999\n"
     ]
    },
    {
     "name": "stdout",
     "output_type": "stream",
     "text": [
      "Saving to: C:\\Users\\mfbx2jrj\\UKBiobank-Interview\\patients.csv\n",
      "INFO:     127.0.0.1:64114 - \"POST /patients HTTP/1.1\" 201 Created\n",
      "INFO:     127.0.0.1:64114 - \"GET /patients HTTP/1.1\" 200 OK\n",
      "INFO:     127.0.0.1:64126 - \"GET /patients HTTP/1.1\" 200 OK\n",
      "INFO:     127.0.0.1:64126 - \"OPTIONS /patients/TEST999 HTTP/1.1\" 200 OK\n"
     ]
    },
    {
     "name": "stderr",
     "output_type": "stream",
     "text": [
      "2025-06-16 10:42:29,959 - INFO - Patient updated: TEST999\n"
     ]
    },
    {
     "name": "stdout",
     "output_type": "stream",
     "text": [
      "Saving to: C:\\Users\\mfbx2jrj\\UKBiobank-Interview\\patients.csv\n",
      "INFO:     127.0.0.1:64126 - \"PUT /patients/TEST999 HTTP/1.1\" 200 OK\n",
      "INFO:     127.0.0.1:64126 - \"GET /patients HTTP/1.1\" 200 OK\n",
      "INFO:     127.0.0.1:64152 - \"GET /patients HTTP/1.1\" 200 OK\n",
      "INFO:     127.0.0.1:64152 - \"OPTIONS /patients/TEST999 HTTP/1.1\" 200 OK\n"
     ]
    },
    {
     "name": "stderr",
     "output_type": "stream",
     "text": [
      "2025-06-16 10:42:45,557 - INFO - Patient deleted: TEST999\n"
     ]
    },
    {
     "name": "stdout",
     "output_type": "stream",
     "text": [
      "Saving to: C:\\Users\\mfbx2jrj\\UKBiobank-Interview\\patients.csv\n",
      "INFO:     127.0.0.1:64152 - \"DELETE /patients/TEST999 HTTP/1.1\" 204 No Content\n",
      "INFO:     127.0.0.1:64152 - \"GET /patients HTTP/1.1\" 200 OK\n",
      "INFO:     127.0.0.1:64178 - \"GET /patients HTTP/1.1\" 200 OK\n",
      "INFO:     127.0.0.1:64590 - \"GET /patients HTTP/1.1\" 200 OK\n",
      "INFO:     127.0.0.1:64594 - \"OPTIONS /patients HTTP/1.1\" 200 OK\n"
     ]
    },
    {
     "name": "stderr",
     "output_type": "stream",
     "text": [
      "2025-06-16 10:47:27,808 - INFO - Patient created: TEST999\n"
     ]
    },
    {
     "name": "stdout",
     "output_type": "stream",
     "text": [
      "Saving to: C:\\Users\\mfbx2jrj\\UKBiobank-Interview\\patients.csv\n",
      "INFO:     127.0.0.1:64594 - \"POST /patients HTTP/1.1\" 201 Created\n",
      "INFO:     127.0.0.1:64594 - \"GET /patients HTTP/1.1\" 200 OK\n",
      "INFO:     127.0.0.1:64616 - \"GET /patients HTTP/1.1\" 200 OK\n",
      "INFO:     127.0.0.1:64616 - \"OPTIONS /patients/TEST999 HTTP/1.1\" 200 OK\n"
     ]
    },
    {
     "name": "stderr",
     "output_type": "stream",
     "text": [
      "2025-06-16 10:47:37,898 - INFO - Patient updated: TEST999\n"
     ]
    },
    {
     "name": "stdout",
     "output_type": "stream",
     "text": [
      "Saving to: C:\\Users\\mfbx2jrj\\UKBiobank-Interview\\patients.csv\n",
      "INFO:     127.0.0.1:64616 - \"PUT /patients/TEST999 HTTP/1.1\" 200 OK\n",
      "INFO:     127.0.0.1:64616 - \"GET /patients HTTP/1.1\" 200 OK\n",
      "INFO:     127.0.0.1:64628 - \"GET /patients HTTP/1.1\" 200 OK\n",
      "INFO:     127.0.0.1:64628 - \"OPTIONS /patients/TEST999 HTTP/1.1\" 200 OK\n"
     ]
    },
    {
     "name": "stderr",
     "output_type": "stream",
     "text": [
      "2025-06-16 10:47:45,043 - INFO - Patient deleted: TEST999\n"
     ]
    },
    {
     "name": "stdout",
     "output_type": "stream",
     "text": [
      "Saving to: C:\\Users\\mfbx2jrj\\UKBiobank-Interview\\patients.csv\n",
      "INFO:     127.0.0.1:64628 - \"DELETE /patients/TEST999 HTTP/1.1\" 204 No Content\n",
      "INFO:     127.0.0.1:64628 - \"GET /patients HTTP/1.1\" 200 OK\n"
     ]
    }
   ],
   "source": [
    "test_delete_patient(\"TEST00111\")"
   ]
  },
  {
   "cell_type": "code",
   "execution_count": null,
   "id": "14db754a-b6fc-4f9a-b44f-fdfc130d8a5b",
   "metadata": {},
   "outputs": [],
   "source": []
  }
 ],
 "metadata": {
  "kernelspec": {
   "display_name": "Python 3 (ipykernel)",
   "language": "python",
   "name": "python3"
  },
  "language_info": {
   "codemirror_mode": {
    "name": "ipython",
    "version": 3
   },
   "file_extension": ".py",
   "mimetype": "text/x-python",
   "name": "python",
   "nbconvert_exporter": "python",
   "pygments_lexer": "ipython3",
   "version": "3.11.7"
  }
 },
 "nbformat": 4,
 "nbformat_minor": 5
}
