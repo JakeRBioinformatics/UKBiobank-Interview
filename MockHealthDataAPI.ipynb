{
 "cells": [
  {
   "cell_type": "markdown",
   "id": "eaa0c2a8-0391-46d5-9df5-dbce2d1033b5",
   "metadata": {},
   "source": [
    "1) Imports and Config"
   ]
  },
  {
   "cell_type": "code",
   "execution_count": 1,
   "id": "2bd53a49-a1a6-4e1e-97f0-5fcb3b18ee00",
   "metadata": {},
   "outputs": [],
   "source": [
    "from fastapi import FastAPI, HTTPException\n",
    "from pydantic import BaseModel\n",
    "from typing import Dict, List\n",
    "import csv\n",
    "import os\n",
    "import uvicorn\n",
    "import nest_asyncio\n",
    "from threading import Thread\n",
    "import ipytest\n",
    "import httpx\n",
    "\n",
    "CSV_FILE = \"patients.csv\"\n",
    "BASE_URL = \"http://127.0.0.1:8000\"\n",
    "ipytest.autoconfig()"
   ]
  },
  {
   "cell_type": "markdown",
   "id": "0b5f3da1-3966-4b63-a8b9-d17fe62dd37b",
   "metadata": {},
   "source": [
    "2. Data Model"
   ]
  },
  {
   "cell_type": "code",
   "execution_count": 2,
   "id": "0d484ea5-35dd-4331-954d-5338f921d843",
   "metadata": {},
   "outputs": [],
   "source": [
    "class Patient(BaseModel):\n",
    "    patient_id: str\n",
    "    age: int\n",
    "    sex: str\n",
    "    BMI: float\n",
    "    diagnosis_code: str\n",
    "    sample_taken: bool\n",
    "    blood_pressure: str\n",
    "    cholesterol_level: float"
   ]
  },
  {
   "cell_type": "markdown",
   "id": "11899e00-2569-42a3-8a6a-1cd5a30717bd",
   "metadata": {},
   "source": [
    "3. CSV Helper Functions"
   ]
  },
  {
   "cell_type": "code",
   "execution_count": 3,
   "id": "baf35d2d-a185-4612-8758-079221467153",
   "metadata": {},
   "outputs": [],
   "source": [
    "def load_patients_from_csv() -> Dict[str, Patient]:\n",
    "    if not os.path.exists(CSV_FILE):\n",
    "        return {}\n",
    "    with open(CSV_FILE, newline='') as f:\n",
    "        reader = csv.DictReader(f)\n",
    "        data = {}\n",
    "        for row in reader:\n",
    "            row['age'] = int(row['age'])\n",
    "            row['BMI'] = float(row['BMI'])\n",
    "            row['sample_taken'] = row['sample_taken'].lower() == \"true\"\n",
    "            row['cholesterol_level'] = float(row['cholesterol_level'])\n",
    "            data[row['patient_id']] = Patient(**row)\n",
    "        return data\n",
    "\n",
    "def save_patients_to_csv():\n",
    "    with open(CSV_FILE, mode='w', newline='', encoding='utf-8') as f:\n",
    "        fieldnames = list(Patient.__fields__)  # Pydantic v1 compatibility\n",
    "        writer = csv.DictWriter(f, fieldnames=fieldnames)\n",
    "        writer.writeheader()\n",
    "        for patient in patients.values():\n",
    "            writer.writerow(patient.dict())\n",
    "        print(\"Saving to:\", os.path.abspath(CSV_FILE))"
   ]
  },
  {
   "cell_type": "markdown",
   "id": "c1bc252d-bd41-4343-87e5-5a7b77a38640",
   "metadata": {},
   "source": [
    "4. FastAPI Initialisation"
   ]
  },
  {
   "cell_type": "code",
   "execution_count": 4,
   "id": "e87c532c-9caf-4c5f-b29b-882da9b64d93",
   "metadata": {},
   "outputs": [],
   "source": [
    "app = FastAPI()\n",
    "patients: Dict[str, Patient] = load_patients_from_csv()"
   ]
  },
  {
   "cell_type": "markdown",
   "id": "4cd2111b-5035-4dbc-a6ce-3ddd9b258231",
   "metadata": {},
   "source": [
    "5. API Endpoints"
   ]
  },
  {
   "cell_type": "code",
   "execution_count": 5,
   "id": "e5469ee9-32cd-4b18-b71a-81dd026bcdb3",
   "metadata": {},
   "outputs": [],
   "source": [
    "@app.get(\"/patients\", response_model=List[Patient])\n",
    "def get_all_patients():\n",
    "    return list(patients.values())\n",
    "\n",
    "@app.get(\"/patients/{patient_id}\", response_model=Patient)\n",
    "def get_patient(patient_id: str):\n",
    "    if patient_id not in patients:\n",
    "        raise HTTPException(status_code=404, detail=\"Patient not found\")\n",
    "    return patients[patient_id]\n",
    "\n",
    "@app.post(\"/patients\", response_model=Patient, status_code=201)\n",
    "def create_patient(patient: Patient):\n",
    "    if patient.patient_id in patients:\n",
    "        raise HTTPException(status_code=400, detail=\"Patient already exists\")\n",
    "    patients[patient.patient_id] = patient\n",
    "    save_patients_to_csv()\n",
    "    return patient\n",
    "\n",
    "@app.put(\"/patients/{patient_id}\", response_model=Patient)\n",
    "def update_patient(patient_id: str, updated: Patient):\n",
    "    if patient_id not in patients:\n",
    "        raise HTTPException(status_code=404, detail=\"Patient not found\")\n",
    "    patients[patient_id] = updated\n",
    "    save_patients_to_csv()\n",
    "    return updated\n",
    "\n",
    "@app.delete(\"/patients/{patient_id}\", status_code=204)\n",
    "def delete_patient(patient_id: str):\n",
    "    if patient_id not in patients:\n",
    "        raise HTTPException(status_code=404, detail=\"Patient not found\")\n",
    "    del patients[patient_id]\n",
    "    save_patients_to_csv()"
   ]
  },
  {
   "cell_type": "markdown",
   "id": "3af9f10f-c7f2-4c20-b5a9-8cfaa9b1fd50",
   "metadata": {},
   "source": [
    "6. Launch Server"
   ]
  },
  {
   "cell_type": "code",
   "execution_count": 6,
   "id": "5b000a5d-44dd-4d38-8fba-68f8c9842f0d",
   "metadata": {},
   "outputs": [
    {
     "name": "stderr",
     "output_type": "stream",
     "text": [
      "INFO:     Started server process [20496]\n",
      "INFO:     Waiting for application startup.\n",
      "INFO:     Application startup complete.\n",
      "INFO:     Uvicorn running on http://127.0.0.1:8000 (Press CTRL+C to quit)\n"
     ]
    },
    {
     "name": "stdout",
     "output_type": "stream",
     "text": [
      "INFO:     127.0.0.1:50538 - \"GET / HTTP/1.1\" 404 Not Found\n",
      "INFO:     127.0.0.1:50540 - \"GET /favicon.ico HTTP/1.1\" 404 Not Found\n",
      "INFO:     127.0.0.1:50538 - \"GET /docs HTTP/1.1\" 200 OK\n",
      "INFO:     127.0.0.1:50538 - \"GET /openapi.json HTTP/1.1\" 200 OK\n",
      "INFO:     127.0.0.1:50547 - \"GET /patients HTTP/1.1\" 200 OK\n"
     ]
    }
   ],
   "source": [
    "nest_asyncio.apply()\n",
    "\n",
    "def run():\n",
    "    uvicorn.run(app, host=\"127.0.0.1\", port=8000)\n",
    "\n",
    "Thread(target=run, daemon=True).start()"
   ]
  },
  {
   "cell_type": "markdown",
   "id": "97e0fda1-9be9-4156-b162-cd34f2320d91",
   "metadata": {},
   "source": [
    "7. Automation Tests"
   ]
  },
  {
   "cell_type": "code",
   "execution_count": 14,
   "id": "395fe163-1f4b-44be-b19f-0f86a3469e39",
   "metadata": {},
   "outputs": [],
   "source": [
    "# Test 1: Get all patients\n",
    "def test_get_all_patients():\n",
    "    response = httpx.get(f\"{BASE_URL}/patients\")\n",
    "    assert response.status_code == 200\n",
    "    assert isinstance(response.json(), list)\n",
    "\n",
    "# Test 2: Get a valid patient by ID\n",
    "def test_get_valid_patient(patient_id: str):\n",
    "    response = httpx.get(f\"{BASE_URL}/patients/{patient_id}\")\n",
    "    assert response.status_code == 200\n",
    "    assert response.json()[\"patient_id\"] == patient_id\n",
    "\n",
    "# Test 3: Get an invalid (nonexistent) patient\n",
    "def test_get_invalid_patient(patient_id: str):\n",
    "    response = httpx.get(f\"{BASE_URL}/patients/{patient_id}\")\n",
    "    assert response.status_code == 404\n",
    "\n",
    "# Test 4: Create a new patient\n",
    "def test_create_new_patient(patient_id: str):\n",
    "    new_patient = {\n",
    "        \"patient_id\": patient_id,\n",
    "        \"age\": 55,\n",
    "        \"sex\": \"Male\",\n",
    "        \"BMI\": 28.5,\n",
    "        \"diagnosis_code\": \"I90\",\n",
    "        \"sample_taken\": True,\n",
    "        \"blood_pressure\": \"125/85\",\n",
    "        \"cholesterol_level\": 5.5\n",
    "    }\n",
    "    response = httpx.post(f\"{BASE_URL}/patients\", json=new_patient)\n",
    "    assert response.status_code == 201\n",
    "    assert response.json()[\"patient_id\"] == patient_id\n",
    "\n",
    "# Test 5: Update an existing patient\n",
    "def test_update_patient(patient_id: str, new_age: int):\n",
    "    updated_data = {\n",
    "        \"patient_id\": patient_id,\n",
    "        \"age\": new_age,\n",
    "        \"sex\": \"Male\",\n",
    "        \"BMI\": 29.0,\n",
    "        \"diagnosis_code\": \"I91\",\n",
    "        \"sample_taken\": False,\n",
    "        \"blood_pressure\": \"120/80\",\n",
    "        \"cholesterol_level\": 5.0\n",
    "    }\n",
    "    response = httpx.put(f\"{BASE_URL}/patients/{patient_id}\", json=updated_data)\n",
    "    assert response.status_code == 200\n",
    "    assert response.json()[\"age\"] == new_age\n",
    "\n",
    "# Test 6: Delete a patient\n",
    "def test_delete_patient(patient_id: str):\n",
    "    response = httpx.delete(f\"{BASE_URL}/patients/{patient_id}\")\n",
    "    assert response.status_code == 204\n",
    "    # Confirm deletion\n",
    "    check = httpx.get(f\"{BASE_URL}/patients/{patient_id}\")\n",
    "    assert check.status_code == 404"
   ]
  },
  {
   "cell_type": "code",
   "execution_count": 16,
   "id": "f5df65a7-b292-4865-bd12-6d663441b749",
   "metadata": {},
   "outputs": [
    {
     "name": "stdout",
     "output_type": "stream",
     "text": [
      "INFO:     127.0.0.1:50752 - \"GET /patients HTTP/1.1\" 200 OK\n",
      "INFO:     127.0.0.1:50753 - \"GET /patients/PAT1002 HTTP/1.1\" 200 OK\n",
      "INFO:     127.0.0.1:50754 - \"GET /patients/PAT10000 HTTP/1.1\" 404 Not Found\n",
      "Saving to: C:\\Users\\mfbx2jrj\\UKBiobank-Interview\\patients.csv\n",
      "INFO:     127.0.0.1:50755 - \"POST /patients HTTP/1.1\" 201 Created\n",
      "Saving to: C:\\Users\\mfbx2jrj\\UKBiobank-Interview\\patients.csv\n",
      "INFO:     127.0.0.1:50756 - \"PUT /patients/TEST001 HTTP/1.1\" 200 OK\n",
      "Saving to: C:\\Users\\mfbx2jrj\\UKBiobank-Interview\\patients.csv\n",
      "INFO:     127.0.0.1:50757 - \"DELETE /patients/TEST001 HTTP/1.1\" 204 No Content\n",
      "INFO:     127.0.0.1:50758 - \"GET /patients/TEST001 HTTP/1.1\" 404 Not Found\n"
     ]
    }
   ],
   "source": [
    "test_get_all_patients()\n",
    "test_get_valid_patient(\"PAT1002\")\n",
    "test_get_invalid_patient(\"PAT10000\")\n",
    "test_create_new_patient(\"TEST001\")\n",
    "test_update_patient(\"TEST001\", 50)\n",
    "test_delete_patient(\"TEST001\")"
   ]
  },
  {
   "cell_type": "code",
   "execution_count": null,
   "id": "25a73c58-8a3a-434a-bcdc-219af3178bf9",
   "metadata": {},
   "outputs": [],
   "source": []
  }
 ],
 "metadata": {
  "kernelspec": {
   "display_name": "Python 3 (ipykernel)",
   "language": "python",
   "name": "python3"
  },
  "language_info": {
   "codemirror_mode": {
    "name": "ipython",
    "version": 3
   },
   "file_extension": ".py",
   "mimetype": "text/x-python",
   "name": "python",
   "nbconvert_exporter": "python",
   "pygments_lexer": "ipython3",
   "version": "3.11.7"
  }
 },
 "nbformat": 4,
 "nbformat_minor": 5
}
