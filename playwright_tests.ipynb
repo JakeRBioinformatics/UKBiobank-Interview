{
 "cells": [
  {
   "cell_type": "code",
   "execution_count": 8,
   "id": "af7dddc9-d3a8-4067-84ff-8bd68f0c7207",
   "metadata": {},
   "outputs": [],
   "source": [
    "import os\n",
    "import nest_asyncio\n",
    "import asyncio\n",
    "import logging\n",
    "from playwright.async_api import async_playwright\n",
    "nest_asyncio.apply()\n",
    "\n",
    "logging.basicConfig(\n",
    "    filename=\"ui_test_actions.log\",\n",
    "    filemode=\"a\",\n",
    "    level=logging.INFO,\n",
    "    format=\"%(asctime)s - %(levelname)s - %(message)s\"\n",
    ")"
   ]
  },
  {
   "cell_type": "code",
   "execution_count": 9,
   "id": "021c4c24-0e8e-450a-8bbc-dc49686754aa",
   "metadata": {},
   "outputs": [],
   "source": [
    "async def test_add_patient(patient_id: str):    \n",
    "    logging.info(f\"Test start: Adding patient {patient_id}\")\n",
    "    \n",
    "    async with async_playwright() as p:\n",
    "        browser = await p.chromium.launch(headless=False)\n",
    "        page = await browser.new_page()\n",
    "\n",
    "        html_path = os.path.abspath(\"mock_ui.html\")\n",
    "        await page.goto(f\"file://{html_path}\")\n",
    "\n",
    "        await page.fill('input[name=\"patient_id\"]', patient_id)\n",
    "        await page.fill('input[name=\"age\"]', \"45\")\n",
    "        await page.fill('input[name=\"sex\"]', \"Male\")\n",
    "        await page.fill('input[name=\"BMI\"]', \"25.4\")\n",
    "        await page.fill('input[name=\"diagnosis_code\"]', \"I99\")\n",
    "        await page.fill('input[name=\"blood_pressure\"]', \"122/78\")\n",
    "        await page.fill('input[name=\"cholesterol_level\"]', \"5.9\")\n",
    "        await page.check('input[name=\"sample_taken\"]')\n",
    "        await page.click('button[type=\"submit\"]')\n",
    "\n",
    "        await page.wait_for_selector(f'tr:has-text(\"{patient_id}\")')\n",
    "        print(f\"✅ Added patient {patient_id}\")\n",
    "        \n",
    "        logging.info(f\"✅ Successfully added patient {patient_id}\")\n",
    "        await browser.close()"
   ]
  },
  {
   "cell_type": "code",
   "execution_count": 10,
   "id": "42827894-3882-4d31-996f-c6d2830a2f6b",
   "metadata": {},
   "outputs": [],
   "source": [
    "async def test_edit_patient(patient_id: str, new_age: str, new_bmi: str):    \n",
    "    logging.info(f\"Test start: Editing patient {patient_id} → age={new_age}, BMI={new_bmi}\")\n",
    "    \n",
    "    async with async_playwright() as p:\n",
    "        browser = await p.chromium.launch(headless=False)\n",
    "        page = await browser.new_page()\n",
    "\n",
    "        html_path = os.path.abspath(\"mock_ui.html\")\n",
    "        await page.goto(f\"file://{html_path}\")\n",
    "\n",
    "        await page.click(f'tr:has-text(\"{patient_id}\") >> text=Edit')\n",
    "        await page.fill('input[name=\"age\"]', new_age)\n",
    "        await page.fill('input[name=\"BMI\"]', new_bmi)\n",
    "        await page.click('button[type=\"submit\"]')\n",
    "        await page.wait_for_timeout(500)\n",
    "\n",
    "        updated_row = await page.locator(f'tr:has-text(\"{patient_id}\")').inner_text()\n",
    "        assert new_age in updated_row and new_bmi in updated_row\n",
    "        print(f\"✅ Edited patient {patient_id}: age={new_age}, BMI={new_bmi}\")\n",
    "        \n",
    "        logging.info(f\"✅ Successfully edited patient {patient_id}\")\n",
    "        await browser.close()"
   ]
  },
  {
   "cell_type": "code",
   "execution_count": 11,
   "id": "31d7075e-d71c-4b51-9152-ac203ac0d989",
   "metadata": {},
   "outputs": [],
   "source": [
    "async def test_delete_patient(patient_id: str):    \n",
    "    logging.info(f\"Test start: Deleting patient {patient_id}\")\n",
    "    \n",
    "    async with async_playwright() as p:\n",
    "        browser = await p.chromium.launch(headless=False)\n",
    "        page = await browser.new_page()\n",
    "\n",
    "        html_path = os.path.abspath(\"mock_ui.html\")\n",
    "        await page.goto(f\"file://{html_path}\")\n",
    "\n",
    "        await page.evaluate(\"window.confirm = () => true\")\n",
    "        await page.click(f'tr:has-text(\"{patient_id}\") >> text=Delete')\n",
    "        await page.wait_for_timeout(1000)\n",
    "\n",
    "        content = await page.content()\n",
    "        assert patient_id not in content\n",
    "        print(f\"✅ Deleted patient {patient_id}\")\n",
    "\n",
    "        \n",
    "        logging.info(f\"✅ Successfully deleted patient {patient_id}\")\n",
    "        await browser.close()"
   ]
  },
  {
   "cell_type": "code",
   "execution_count": 12,
   "id": "0c8b2bf0-d8b9-4216-8bdb-731977676a98",
   "metadata": {},
   "outputs": [
    {
     "name": "stdout",
     "output_type": "stream",
     "text": [
      "✅ Added patient TEST999\n"
     ]
    }
   ],
   "source": [
    "await test_add_patient(\"TEST999\")"
   ]
  },
  {
   "cell_type": "code",
   "execution_count": 13,
   "id": "643c3789-6211-4da2-96c5-7ba8160e1cf4",
   "metadata": {},
   "outputs": [
    {
     "name": "stdout",
     "output_type": "stream",
     "text": [
      "✅ Edited patient TEST999: age=52, BMI=27.2\n"
     ]
    }
   ],
   "source": [
    "await test_edit_patient(\"TEST999\", \"52\", \"27.2\")"
   ]
  },
  {
   "cell_type": "code",
   "execution_count": 14,
   "id": "8ac8069a-9e6e-4549-b4da-d257643b917a",
   "metadata": {},
   "outputs": [
    {
     "name": "stdout",
     "output_type": "stream",
     "text": [
      "✅ Deleted patient TEST999\n"
     ]
    }
   ],
   "source": [
    "await test_delete_patient(\"TEST999\")"
   ]
  },
  {
   "cell_type": "code",
   "execution_count": null,
   "id": "f88e8b2c-aec5-45a8-914d-e8c622c16750",
   "metadata": {},
   "outputs": [],
   "source": []
  }
 ],
 "metadata": {
  "kernelspec": {
   "display_name": "Python 3 (ipykernel)",
   "language": "python",
   "name": "python3"
  },
  "language_info": {
   "codemirror_mode": {
    "name": "ipython",
    "version": 3
   },
   "file_extension": ".py",
   "mimetype": "text/x-python",
   "name": "python",
   "nbconvert_exporter": "python",
   "pygments_lexer": "ipython3",
   "version": "3.11.7"
  }
 },
 "nbformat": 4,
 "nbformat_minor": 5
}
